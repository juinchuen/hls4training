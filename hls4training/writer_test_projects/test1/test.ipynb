{
 "cells": [
  {
   "cell_type": "code",
   "execution_count": 2,
   "metadata": {},
   "outputs": [
    {
     "ename": "UnboundLocalError",
     "evalue": "cannot access local variable 'j' where it is not associated with a value",
     "output_type": "error",
     "traceback": [
      "\u001b[0;31m---------------------------------------------------------------------------\u001b[0m",
      "\u001b[0;31mUnboundLocalError\u001b[0m                         Traceback (most recent call last)",
      "\u001b[1;32m/homes/jco1147/hls4training/hls4training/writer_test_projects/test1/test.ipynb Cell 1\u001b[0m line \u001b[0;36m1\n\u001b[1;32m      <a href='vscode-notebook-cell:/homes/jco1147/hls4training/hls4training/writer_test_projects/test1/test.ipynb#W0sZmlsZQ%3D%3D?line=8'>9</a>\u001b[0m template_dir \u001b[39m=\u001b[39m \u001b[39m\"\u001b[39m\u001b[39m/homes/jco1147/hls4training/hls4training/templates/\u001b[39m\u001b[39m\"\u001b[39m\n\u001b[1;32m     <a href='vscode-notebook-cell:/homes/jco1147/hls4training/hls4training/writer_test_projects/test1/test.ipynb#W0sZmlsZQ%3D%3D?line=10'>11</a>\u001b[0m writer \u001b[39m=\u001b[39m vivado_writer(project_dir\u001b[39m=\u001b[39mproject_dir, template_dir\u001b[39m=\u001b[39mtemplate_dir)\n\u001b[0;32m---> <a href='vscode-notebook-cell:/homes/jco1147/hls4training/hls4training/writer_test_projects/test1/test.ipynb#W0sZmlsZQ%3D%3D?line=12'>13</a>\u001b[0m writer\u001b[39m.\u001b[39;49mwrite_project_cpp(layer_names\u001b[39m=\u001b[39;49m[\u001b[39m\"\u001b[39;49m\u001b[39mlayer0\u001b[39;49m\u001b[39m\"\u001b[39;49m], layer_sizes\u001b[39m=\u001b[39;49m[\u001b[39m3\u001b[39;49m,\u001b[39m5\u001b[39;49m])\n",
      "File \u001b[0;32m~/hls4training/hls4training/writer_test_projects/test1/../../writers/vivado_writer.py:164\u001b[0m, in \u001b[0;36mvivado_writer.write_project_cpp\u001b[0;34m(self, layer_names, layer_sizes)\u001b[0m\n\u001b[1;32m    162\u001b[0m newline \u001b[39m+\u001b[39m\u001b[39m=\u001b[39m \u001b[39m'\u001b[39m\u001b[39mnnet::dense_backprop <data_T, dense_config_0> (\u001b[39m\u001b[39m'\u001b[39m\n\u001b[1;32m    163\u001b[0m newline \u001b[39m+\u001b[39m\u001b[39m=\u001b[39m layer_names[\u001b[39m0\u001b[39m] \u001b[39m+\u001b[39m \u001b[39m'\u001b[39m\u001b[39m_relu_grad, input, \u001b[39m\u001b[39m'\u001b[39m\n\u001b[0;32m--> 164\u001b[0m newline \u001b[39m+\u001b[39m\u001b[39m=\u001b[39m layer_names[\u001b[39m0\u001b[39m] \u001b[39m+\u001b[39m \u001b[39m'\u001b[39m\u001b[39m_act_grad, \u001b[39m\u001b[39m'\u001b[39m \u001b[39m+\u001b[39m layer_names[j] \u001b[39m+\u001b[39m \u001b[39m'\u001b[39m\u001b[39m_w, \u001b[39m\u001b[39m'\u001b[39m\n\u001b[1;32m    165\u001b[0m newline \u001b[39m+\u001b[39m\u001b[39m=\u001b[39m layer_names[\u001b[39m0\u001b[39m] \u001b[39m+\u001b[39m \u001b[39m'\u001b[39m\u001b[39m_w_grad, \u001b[39m\u001b[39m'\u001b[39m \u001b[39m+\u001b[39m layer_names[j] \u001b[39m+\u001b[39m \u001b[39m'\u001b[39m\u001b[39m_b_grad, \u001b[39m\u001b[39m'\u001b[39m\n\u001b[1;32m    166\u001b[0m newline \u001b[39m+\u001b[39m\u001b[39m=\u001b[39m \u001b[39m'\u001b[39m\u001b[39minput_act_grad);\u001b[39m\u001b[39m\\n\u001b[39;00m\u001b[39m'\u001b[39m\n",
      "\u001b[0;31mUnboundLocalError\u001b[0m: cannot access local variable 'j' where it is not associated with a value"
     ]
    }
   ],
   "source": [
    "import sys\n",
    "\n",
    "sys.path.append(\"../../writers\")\n",
    "\n",
    "from vivado_writer import vivado_writer\n",
    "\n",
    "project_dir = \"/homes/jco1147/hls4training/hls4training/writer_test_projects/test1/\"\n",
    "\n",
    "template_dir = \"/homes/jco1147/hls4training/hls4training/templates/\"\n",
    "\n",
    "writer = vivado_writer(project_dir=project_dir, template_dir=template_dir)\n",
    "\n",
    "writer.write_project_cpp(layer_names=[\"layer0\"], layer_sizes=[3,5])"
   ]
  },
  {
   "cell_type": "code",
   "execution_count": null,
   "metadata": {},
   "outputs": [],
   "source": []
  },
  {
   "cell_type": "code",
   "execution_count": null,
   "metadata": {},
   "outputs": [],
   "source": []
  }
 ],
 "metadata": {
  "kernelspec": {
   "display_name": "Python 3 (ipykernel)",
   "language": "python",
   "name": "python3"
  },
  "language_info": {
   "codemirror_mode": {
    "name": "ipython",
    "version": 3
   },
   "file_extension": ".py",
   "mimetype": "text/x-python",
   "name": "python",
   "nbconvert_exporter": "python",
   "pygments_lexer": "ipython3",
   "version": "3.11.5"
  }
 },
 "nbformat": 4,
 "nbformat_minor": 2
}
