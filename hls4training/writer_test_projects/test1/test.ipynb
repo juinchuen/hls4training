{
 "cells": [
  {
   "cell_type": "code",
   "execution_count": 1,
   "metadata": {},
   "outputs": [],
   "source": [
    "import sys\n",
    "\n",
    "sys.path.append(\"../../writers\")\n",
    "\n",
    "from vivado_writer import vivado_writer\n",
    "\n",
    "project_dir = \"/homes/jco1147/hls4training/hls4training/writer_test_projects/test1/\"\n",
    "template_dir = \"/homes/jco1147/hls4training/hls4training/templates/\"\n",
    "util_dir = \"/homes/jco1147/hls4training/hls4training/utils/\"\n",
    "\n",
    "#include \"utils/dense_infer.h\"\n",
    "#include \"utils/relu.h\"\n",
    "#include \"utils/relu_grad.h\"\n",
    "#include \"utils/ms_grad.h\"\n",
    "#include \"utils/dense_backprop.h\"\n",
    "\n",
    "headers = [ \"dense_infer.h\",\n",
    "            \"relu.h\",\n",
    "            \"relu_grad.h\",\n",
    "            \"ms_grad.h\",\n",
    "            \"dense_backprop.h\"]\n",
    "\n",
    "layer_names = [\"layer0\", \"layer1\", \"layer2\"]\n",
    "layer_sizes = [5,16,16,5]\n",
    "\n",
    "writer = vivado_writer(project_dir=project_dir, template_dir=template_dir, util_dir=util_dir)\n",
    "\n",
    "writer.set_names_and_sizes(layer_names=layer_names, layer_sizes=layer_sizes)\n",
    "\n",
    "writer.write_project_cpp(layer_names=layer_names, layer_sizes=layer_sizes)\n",
    "\n",
    "writer.write_header(layer_names=layer_names, layer_sizes=layer_sizes, headers=headers)\n"
   ]
  },
  {
   "cell_type": "code",
   "execution_count": null,
   "metadata": {},
   "outputs": [],
   "source": [
    "import sys\n",
    "\n",
    "sys.path.append(\"../../writers\")\n",
    "\n",
    "from vivado_writer import vivado_writer\n",
    "\n",
    "project_dir = \"/homes/jco1147/hls4training/hls4training/writer_test_projects/test1/\"\n",
    "template_dir = \"/homes/jco1147/hls4training/hls4training/templates/\"\n",
    "util_dir = \"/homes/jco1147/hls4training/hls4training/utils/\"\n",
    "\n",
    "#include \"utils/dense_infer.h\"\n",
    "#include \"utils/relu.h\"\n",
    "#include \"utils/relu_grad.h\"\n",
    "#include \"utils/ms_grad.h\"\n",
    "#include \"utils/dense_backprop.h\"\n",
    "\n",
    "headers = [ \"dense_infer.h\",\n",
    "            \"relu.h\",\n",
    "            \"relu_grad.h\",\n",
    "            \"ms_grad.h\",\n",
    "            \"dense_backprop.h\"]\n",
    "\n",
    "writer = vivado_writer(project_dir=project_dir, template_dir=template_dir, util_dir=util_dir)\n",
    "\n",
    "writer.write_project_cpp(layer_names=[\"layer0\", \"layer1\", \"layer2\", \"layer3\", \"layer4\", \"layer5\"], layer_sizes=[16,32,64,64,64,32,8])\n",
    "\n",
    "writer.write_header(layer_names=[\"layer0\", \"layer1\"], layer_sizes=[3,5,7], headers=headers)\n"
   ]
  },
  {
   "cell_type": "code",
   "execution_count": null,
   "metadata": {},
   "outputs": [],
   "source": []
  }
 ],
 "metadata": {
  "kernelspec": {
   "display_name": "Python 3 (ipykernel)",
   "language": "python",
   "name": "python3"
  },
  "language_info": {
   "codemirror_mode": {
    "name": "ipython",
    "version": 3
   },
   "file_extension": ".py",
   "mimetype": "text/x-python",
   "name": "python",
   "nbconvert_exporter": "python",
   "pygments_lexer": "ipython3",
   "version": "3.11.5"
  }
 },
 "nbformat": 4,
 "nbformat_minor": 2
}
