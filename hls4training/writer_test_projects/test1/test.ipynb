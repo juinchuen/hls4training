{
 "cells": [
  {
   "cell_type": "code",
   "execution_count": 1,
   "metadata": {},
   "outputs": [],
   "source": [
    "import sys\n",
    "\n",
    "sys.path.append(\"../../writers\")\n",
    "\n",
    "from vivado_writer import vivado_writer\n",
    "\n",
    "project_dir = \"../test1/\"\n",
    "template_dir = \"/homes/jco1147/hls4training/hls4training/templates\"\n",
    "util_dir = \"/homes/jco1147/hls4training/hls4training/utils\"\n",
    "mlp_dir = \"/homes/jco1147/hls4training/python_backprop\"\n",
    "csim_out_dir = \"/homes/jco1147/hls4training/hls4training/writer_test_projects/test1\"\n",
    "\n",
    "headers = [ \"dense_infer.h\",\n",
    "            \"relu.h\",\n",
    "            \"relu_grad.h\",\n",
    "            \"ms_grad.h\",\n",
    "            \"dense_backprop.h\"]\n",
    "\n",
    "layer_names = [\"layer0\", \"layer1\", \"layer2\"]\n",
    "layer_sizes = [10, 11, 12, 13]\n",
    "\n",
    "writer = vivado_writer(project_dir=project_dir, template_dir=template_dir, util_dir=util_dir, mlp_dir=mlp_dir, csim_out_dir=csim_out_dir)\n",
    "\n",
    "writer.set_names_and_sizes(layer_names=layer_names, layer_sizes=layer_sizes, data_type=[\"signed\", 18, 9, \"AP_SAT\"])\n",
    "\n",
    "writer.write_project_cpp(layer_names=layer_names, layer_sizes=layer_sizes)\n",
    "\n",
    "writer.write_header(headers=headers)\n",
    "\n",
    "writer.write_testbench()\n"
   ]
  },
  {
   "cell_type": "code",
   "execution_count": 7,
   "metadata": {},
   "outputs": [
    {
     "ename": "AttributeError",
     "evalue": "'vivado_writer' object has no attribute 'layer_names'",
     "output_type": "error",
     "traceback": [
      "\u001b[0;31m---------------------------------------------------------------------------\u001b[0m",
      "\u001b[0;31mAttributeError\u001b[0m                            Traceback (most recent call last)",
      "\u001b[1;32m/homes/dcc3637/Documents/hls4training/hls4training/writer_test_projects/test1/test.ipynb Cell 2\u001b[0m line \u001b[0;36m2\n\u001b[1;32m     <a href='vscode-notebook-cell:/homes/dcc3637/Documents/hls4training/hls4training/writer_test_projects/test1/test.ipynb#W1sZmlsZQ%3D%3D?line=17'>18</a>\u001b[0m headers \u001b[39m=\u001b[39m [ \u001b[39m\"\u001b[39m\u001b[39mdense_infer.h\u001b[39m\u001b[39m\"\u001b[39m,\n\u001b[1;32m     <a href='vscode-notebook-cell:/homes/dcc3637/Documents/hls4training/hls4training/writer_test_projects/test1/test.ipynb#W1sZmlsZQ%3D%3D?line=18'>19</a>\u001b[0m             \u001b[39m\"\u001b[39m\u001b[39mrelu.h\u001b[39m\u001b[39m\"\u001b[39m,\n\u001b[1;32m     <a href='vscode-notebook-cell:/homes/dcc3637/Documents/hls4training/hls4training/writer_test_projects/test1/test.ipynb#W1sZmlsZQ%3D%3D?line=19'>20</a>\u001b[0m             \u001b[39m\"\u001b[39m\u001b[39mrelu_grad.h\u001b[39m\u001b[39m\"\u001b[39m,\n\u001b[1;32m     <a href='vscode-notebook-cell:/homes/dcc3637/Documents/hls4training/hls4training/writer_test_projects/test1/test.ipynb#W1sZmlsZQ%3D%3D?line=20'>21</a>\u001b[0m             \u001b[39m\"\u001b[39m\u001b[39mms_grad.h\u001b[39m\u001b[39m\"\u001b[39m,\n\u001b[1;32m     <a href='vscode-notebook-cell:/homes/dcc3637/Documents/hls4training/hls4training/writer_test_projects/test1/test.ipynb#W1sZmlsZQ%3D%3D?line=21'>22</a>\u001b[0m             \u001b[39m\"\u001b[39m\u001b[39mdense_backprop.h\u001b[39m\u001b[39m\"\u001b[39m]\n\u001b[1;32m     <a href='vscode-notebook-cell:/homes/dcc3637/Documents/hls4training/hls4training/writer_test_projects/test1/test.ipynb#W1sZmlsZQ%3D%3D?line=23'>24</a>\u001b[0m writer \u001b[39m=\u001b[39m vivado_writer(project_dir\u001b[39m=\u001b[39mproject_dir, template_dir\u001b[39m=\u001b[39mtemplate_dir, util_dir\u001b[39m=\u001b[39mutil_dir)\n\u001b[0;32m---> <a href='vscode-notebook-cell:/homes/dcc3637/Documents/hls4training/hls4training/writer_test_projects/test1/test.ipynb#W1sZmlsZQ%3D%3D?line=25'>26</a>\u001b[0m writer\u001b[39m.\u001b[39;49mwrite_project_cpp(layer_names\u001b[39m=\u001b[39;49m[\u001b[39m\"\u001b[39;49m\u001b[39mlayer0\u001b[39;49m\u001b[39m\"\u001b[39;49m, \u001b[39m\"\u001b[39;49m\u001b[39mlayer1\u001b[39;49m\u001b[39m\"\u001b[39;49m, \u001b[39m\"\u001b[39;49m\u001b[39mlayer2\u001b[39;49m\u001b[39m\"\u001b[39;49m, \u001b[39m\"\u001b[39;49m\u001b[39mlayer3\u001b[39;49m\u001b[39m\"\u001b[39;49m, \u001b[39m\"\u001b[39;49m\u001b[39mlayer4\u001b[39;49m\u001b[39m\"\u001b[39;49m, \u001b[39m\"\u001b[39;49m\u001b[39mlayer5\u001b[39;49m\u001b[39m\"\u001b[39;49m], layer_sizes\u001b[39m=\u001b[39;49m[\u001b[39m16\u001b[39;49m,\u001b[39m32\u001b[39;49m,\u001b[39m64\u001b[39;49m,\u001b[39m64\u001b[39;49m,\u001b[39m64\u001b[39;49m,\u001b[39m32\u001b[39;49m,\u001b[39m8\u001b[39;49m])\n\u001b[1;32m     <a href='vscode-notebook-cell:/homes/dcc3637/Documents/hls4training/hls4training/writer_test_projects/test1/test.ipynb#W1sZmlsZQ%3D%3D?line=27'>28</a>\u001b[0m writer\u001b[39m.\u001b[39mwrite_header(layer_names\u001b[39m=\u001b[39m[\u001b[39m\"\u001b[39m\u001b[39mlayer0\u001b[39m\u001b[39m\"\u001b[39m, \u001b[39m\"\u001b[39m\u001b[39mlayer1\u001b[39m\u001b[39m\"\u001b[39m], layer_sizes\u001b[39m=\u001b[39m[\u001b[39m3\u001b[39m,\u001b[39m5\u001b[39m,\u001b[39m7\u001b[39m], headers\u001b[39m=\u001b[39mheaders)\n",
      "File \u001b[0;32m~/Documents/hls4training/hls4training/writer_test_projects/test1/../../writers/vivado_writer.py:144\u001b[0m, in \u001b[0;36mvivado_writer.write_project_cpp\u001b[0;34m(self, layer_names, layer_sizes)\u001b[0m\n\u001b[1;32m    140\u001b[0m \u001b[39mdef\u001b[39;00m \u001b[39mgenerate_pragma\u001b[39m(var_name):\n\u001b[1;32m    142\u001b[0m     \u001b[39mreturn\u001b[39;00m \u001b[39m'\u001b[39m\u001b[39m#pragma HLS ARRAY_PARTITION variable=\u001b[39m\u001b[39m'\u001b[39m \u001b[39m+\u001b[39m var_name \u001b[39m+\u001b[39m \u001b[39m'\u001b[39m\u001b[39m complete dim=0\u001b[39m\u001b[39m\\n\u001b[39;00m\u001b[39m'\u001b[39m\n\u001b[0;32m--> 144\u001b[0m \u001b[39mself\u001b[39;49m\u001b[39m.\u001b[39;49mgenerate_variable_names()\n\u001b[1;32m    146\u001b[0m \u001b[39mfor\u001b[39;00m g \u001b[39min\u001b[39;00m \u001b[39mself\u001b[39m\u001b[39m.\u001b[39mall_names:\n\u001b[1;32m    148\u001b[0m     \u001b[39mfor\u001b[39;00m v \u001b[39min\u001b[39;00m g:\n",
      "File \u001b[0;32m~/Documents/hls4training/hls4training/writer_test_projects/test1/../../writers/vivado_writer.py:35\u001b[0m, in \u001b[0;36mvivado_writer.generate_variable_names\u001b[0;34m(self)\u001b[0m\n\u001b[1;32m     32\u001b[0m \u001b[39mself\u001b[39m\u001b[39m.\u001b[39mbias_grad_names \u001b[39m=\u001b[39m []\n\u001b[1;32m     33\u001b[0m \u001b[39mself\u001b[39m\u001b[39m.\u001b[39mact_grad_names \u001b[39m=\u001b[39m [\u001b[39m'\u001b[39m\u001b[39minput_act_grad\u001b[39m\u001b[39m'\u001b[39m]\n\u001b[0;32m---> 35\u001b[0m \u001b[39mfor\u001b[39;00m i \u001b[39min\u001b[39;00m \u001b[39mrange\u001b[39m(\u001b[39mlen\u001b[39m(\u001b[39mself\u001b[39;49m\u001b[39m.\u001b[39;49mlayer_names)):\n\u001b[1;32m     37\u001b[0m     \u001b[39mself\u001b[39m\u001b[39m.\u001b[39mpre_relu_names\u001b[39m.\u001b[39mappend(\u001b[39mself\u001b[39m\u001b[39m.\u001b[39mlayer_names[i] \u001b[39m+\u001b[39m \u001b[39m'\u001b[39m\u001b[39m_pre_relu\u001b[39m\u001b[39m'\u001b[39m)\n\u001b[1;32m     38\u001b[0m     \u001b[39mself\u001b[39m\u001b[39m.\u001b[39mpost_relu_names\u001b[39m.\u001b[39mappend(\u001b[39mself\u001b[39m\u001b[39m.\u001b[39mlayer_names[i] \u001b[39m+\u001b[39m \u001b[39m'\u001b[39m\u001b[39m_post_relu\u001b[39m\u001b[39m'\u001b[39m)\n",
      "\u001b[0;31mAttributeError\u001b[0m: 'vivado_writer' object has no attribute 'layer_names'"
     ]
    }
   ],
   "source": [
    "import sys\n",
    "\n",
    "sys.path.append(\"../../writers\")\n",
    "\n",
    "from vivado_writer import vivado_writer\n",
    "\n",
    "project_dir = \"../test1/\"\n",
    "template_dir = \"/homes/dcc3637/Documents/hls4training/hls4training/templates\"\n",
    "util_dir = \"/homes/dcc3637/Documents/hls4training/hls4training/utils\"\n",
    "\n",
    "\n",
    "#include \"utils/dense_infer.h\"\n",
    "#include \"utils/relu.h\"\n",
    "#include \"utils/relu_grad.h\"\n",
    "#include \"utils/ms_grad.h\"\n",
    "#include \"utils/dense_backprop.h\"\n",
    "\n",
    "headers = [ \"dense_infer.h\",\n",
    "            \"relu.h\",\n",
    "            \"relu_grad.h\",\n",
    "            \"ms_grad.h\",\n",
    "            \"dense_backprop.h\"]\n",
    "\n",
    "writer = vivado_writer(project_dir=project_dir, template_dir=template_dir, util_dir=util_dir)\n",
    "\n",
    "writer.write_project_cpp(layer_names=[\"layer0\", \"layer1\", \"layer2\", \"layer3\", \"layer4\", \"layer5\"], layer_sizes=[16,32,64,64,64,32,8])\n",
    "\n",
    "writer.write_header(layer_names=[\"layer0\", \"layer1\"], layer_sizes=[3,5,7], headers=headers)\n"
   ]
  },
  {
   "cell_type": "code",
   "execution_count": 2,
   "metadata": {},
   "outputs": [
    {
     "name": "stdout",
     "output_type": "stream",
     "text": [
      "[1.0, 2.0, 3.0]\n",
      "[1.0, 2.0, 3.0]\n",
      "[1.0, 2.0, 3.0]\n"
     ]
    }
   ],
   "source": [
    "x = [1.0, 2.0, 3.0]\n",
    "\n",
    "for n in x:\n",
    "\n",
    "    print(str(x))"
   ]
  }
 ],
 "metadata": {
  "kernelspec": {
   "display_name": "Python 3 (ipykernel)",
   "language": "python",
   "name": "python3"
  },
  "language_info": {
   "codemirror_mode": {
    "name": "ipython",
    "version": 3
   },
   "file_extension": ".py",
   "mimetype": "text/x-python",
   "name": "python",
   "nbconvert_exporter": "python",
   "pygments_lexer": "ipython3",
   "version": "3.10.10"
  }
 },
 "nbformat": 4,
 "nbformat_minor": 2
}
