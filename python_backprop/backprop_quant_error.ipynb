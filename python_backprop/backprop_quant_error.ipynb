{
 "cells": [
  {
   "cell_type": "markdown",
   "metadata": {},
   "source": [
    "### Introduction\n",
    "In this notebook we will test out our custom quantized backprop code, and benchmark it against autograd, which is an automatic differentiation Python library."
   ]
  },
  {
   "cell_type": "code",
   "execution_count": 1,
   "metadata": {},
   "outputs": [],
   "source": [
    "import autograd.numpy as np\n",
    "\n",
    "from autograd import grad\n",
    "\n",
    "from mlp4autograd import mlp4autograd\n"
   ]
  },
  {
   "cell_type": "code",
   "execution_count": 2,
   "metadata": {},
   "outputs": [],
   "source": [
    "def error(params):\n",
    "    # inference error wrapper that we will use with autograd\n",
    "\n",
    "    ref.infer(x_in, params)\n",
    "\n",
    "    return ref.error(y_truth)\n",
    "\n",
    "def ref_v_autograd_error(ref_grad, autograd_grad):\n",
    "    # calculates mean percentage error of two calculated gradients, usually custom Python vs autograd\n",
    "\n",
    "    ref_grad_w = ref_grad[0]\n",
    "    ref_grad_b = ref_grad[1]\n",
    "\n",
    "    autograd_grad_w = autograd_grad[0]\n",
    "    autograd_grad_b = autograd_grad[1]\n",
    "\n",
    "    N = len(ref_grad_w)\n",
    "\n",
    "    delta_w = []\n",
    "    delta_b = []\n",
    "\n",
    "    for i in range(N):\n",
    "\n",
    "        delta_w.append(np.average(np.absolute(np.divide(ref_grad_w[i] - autograd_grad_w[i], autograd_grad_w[i]))))\n",
    "\n",
    "        delta_b.append(np.average(np.absolute(np.divide(ref_grad_b[i] - autograd_grad_b[i], autograd_grad_b[i]))))\n",
    "\n",
    "    return (np.average(delta_w) + np.average(delta_b))/2"
   ]
  },
  {
   "cell_type": "markdown",
   "metadata": {},
   "source": [
    "First we create an instant of our custom backprop module with floating point precision. We can use this to verify our implementation of the backprop algorithm."
   ]
  },
  {
   "cell_type": "code",
   "execution_count": 3,
   "metadata": {},
   "outputs": [],
   "source": [
    "ref = mlp4autograd()\n",
    "\n",
    "# no quantization, [3,7,7,5] architecture\n",
    "# initialize weights uniformly in [0,1]\n",
    "ref.set_quant(quant = False)\n",
    "ref.net_shape([3,7,7,5])\n",
    "ref.init_params(mode=\"uniform\")\n",
    "params = [ref._weight, ref._bias]\n",
    "\n",
    "# generate some random input\n",
    "x_in = np.random.random((3,1))\n",
    "ref.infer(x_in, params)\n",
    "\n",
    "# let the truth be x_in with some small perturbation\n",
    "# we want some small difference so gradient is nonzero but not too large\n",
    "y_truth = ref._activation[-1] + np.random.random((5,1))\n",
    "\n",
    "# calculate gradient according to truth\n",
    "ref.grad(y_truth, False)"
   ]
  },
  {
   "cell_type": "markdown",
   "metadata": {},
   "source": [
    "Next we calculate the gradient using the autograd library"
   ]
  },
  {
   "cell_type": "code",
   "execution_count": 4,
   "metadata": {},
   "outputs": [],
   "source": [
    "# create the gradient function\n",
    "gradient = grad(error)\n",
    "\n",
    "# evaluate the gradient function using the same set of parameters\n",
    "grad_eval = gradient(params)"
   ]
  },
  {
   "cell_type": "markdown",
   "metadata": {},
   "source": [
    "Finally, we can compare our own gradient calculations with floating point precision against autograd's gradient. We expect exactly 0% error, because the calculations we use are exactly the same as autograd."
   ]
  },
  {
   "cell_type": "code",
   "execution_count": 5,
   "metadata": {},
   "outputs": [
    {
     "name": "stdout",
     "output_type": "stream",
     "text": [
      "Percentage difference: 0.00%\n"
     ]
    }
   ],
   "source": [
    "print(\"Percentage difference: \" + \"{:2.2%}\".format(ref_v_autograd_error(ref.params_grad, grad_eval)))"
   ]
  },
  {
   "cell_type": "markdown",
   "metadata": {},
   "source": [
    "Next, we create a instance of the backprop module with (24,12) quantization. We will need to quantize the parameters, inputs, and outputs. Then we will evaluate the gradient with fixed point arithmetic."
   ]
  },
  {
   "cell_type": "code",
   "execution_count": 6,
   "metadata": {},
   "outputs": [],
   "source": [
    "D_BITS = 24\n",
    "Q_BITS = 12\n",
    "\n",
    "# (24,12) quantization, [3,7,7,5] architecture\n",
    "ref_q = mlp4autograd()\n",
    "ref_q.set_quant(D_BITS, Q_BITS, True)\n",
    "ref_q.net_shape([3,7,7,5])\n",
    "\n",
    "# quantize weights and biases\n",
    "weight_q = []\n",
    "bias_q = []\n",
    "\n",
    "for w in ref._weight:\n",
    "    weight_q.append(np.round(w * (2 ** Q_BITS)))\n",
    "\n",
    "for b in ref._bias:\n",
    "    bias_q.append(np.round(b * (2 ** Q_BITS)))\n",
    "\n",
    "ref_q._weight = weight_q\n",
    "ref_q._bias = bias_q\n",
    "\n",
    "# quantize inputs and outputs\n",
    "x_in_q = np.round(x_in * (2 ** Q_BITS))\n",
    "y_truth_q = np.round(y_truth * (2 ** Q_BITS))\n",
    "\n",
    "# perform inference and backprop\n",
    "ref_q.infer(x_in_q, [weight_q, bias_q])\n",
    "ref_q.grad(y_truth_q)\n",
    "\n",
    "# de-quantize (fixed point back to floating point)\n",
    "weight_grad_q = []\n",
    "bias_grad_q = []\n",
    "\n",
    "for wg in ref_q._weight_dif:\n",
    "    weight_grad_q.append(np.divide(wg, (2 ** Q_BITS)))\n",
    "\n",
    "for bg in ref_q._bias_dif:\n",
    "    bias_grad_q.append(np.divide(bg, (2 ** Q_BITS)))\n",
    "\n",
    "param_grad_q = [weight_grad_q, bias_grad_q]"
   ]
  },
  {
   "cell_type": "markdown",
   "metadata": {},
   "source": [
    "Finally, we can calculate the mean percent error between fixed point gradient and autograd gradient. We should see mean percent errors less than 1 %."
   ]
  },
  {
   "cell_type": "code",
   "execution_count": 7,
   "metadata": {},
   "outputs": [
    {
     "name": "stdout",
     "output_type": "stream",
     "text": [
      "Percentage difference: 0.25%\n"
     ]
    }
   ],
   "source": [
    "print(\"Percentage difference: \" + \"{:2.2%}\".format(ref_v_autograd_error(param_grad_q, grad_eval)))"
   ]
  }
 ],
 "metadata": {
  "kernelspec": {
   "display_name": "Python 3 (ipykernel)",
   "language": "python",
   "name": "python3"
  },
  "language_info": {
   "codemirror_mode": {
    "name": "ipython",
    "version": 3
   },
   "file_extension": ".py",
   "mimetype": "text/x-python",
   "name": "python",
   "nbconvert_exporter": "python",
   "pygments_lexer": "ipython3",
   "version": "3.8.8"
  }
 },
 "nbformat": 4,
 "nbformat_minor": 2
}
