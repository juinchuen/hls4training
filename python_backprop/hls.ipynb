{
 "cells": [
  {
   "cell_type": "code",
   "execution_count": 1,
   "metadata": {},
   "outputs": [],
   "source": [
    "from mlp import mlp\n",
    "\n",
    "import numpy as np\n",
    "\n",
    "import matplotlib.pyplot as plt"
   ]
  },
  {
   "cell_type": "code",
   "execution_count": 21,
   "metadata": {},
   "outputs": [
    {
     "data": {
      "text/plain": [
       "0"
      ]
     },
     "execution_count": 21,
     "metadata": {},
     "output_type": "execute_result"
    }
   ],
   "source": [
    "gold = mlp()\n",
    "\n",
    "d_bits = 32\n",
    "q_bits = 0\n",
    "\n",
    "gold.set_quant(quant = False)\n",
    "\n",
    "gold.net_shape([3,5])\n",
    "\n",
    "gold.init_params(mode=\"uniform\")"
   ]
  },
  {
   "cell_type": "code",
   "execution_count": 22,
   "metadata": {},
   "outputs": [],
   "source": [
    "gold._weight = np.round(np.multiply(gold._weight, 32))\n",
    "\n",
    "gold._bias = np.round(np.multiply(gold._bias, 32))\n",
    "\n",
    "x_in = np.array([[1],[2],[3]])\n",
    "\n",
    "y_truth = np.array([[7],[7],[7],[7],[7]])"
   ]
  },
  {
   "cell_type": "code",
   "execution_count": 24,
   "metadata": {},
   "outputs": [
    {
     "name": "stdout",
     "output_type": "stream",
     "text": [
      "[[[15.  8. 27.]\n",
      "  [32.  0. 29.]\n",
      "  [32. 22. 29.]\n",
      "  [28. 11. 17.]\n",
      "  [ 5.  6. 24.]]]\n",
      "[[[29.]\n",
      "  [31.]\n",
      "  [13.]\n",
      "  [ 7.]\n",
      "  [16.]]]\n"
     ]
    }
   ],
   "source": [
    "print(gold._weight)\n",
    "\n",
    "print(gold._bias)"
   ]
  },
  {
   "cell_type": "code",
   "execution_count": 25,
   "metadata": {},
   "outputs": [
    {
     "name": "stdout",
     "output_type": "stream",
     "text": [
      "Weight Gradient Layer 0:\n",
      "[[ 268.  536.  804.]\n",
      " [ 286.  572.  858.]\n",
      " [ 338.  676. 1014.]\n",
      " [ 202.  404.  606.]\n",
      " [ 196.  392.  588.]]\n",
      "\n",
      "\n",
      "Bias Gradient Layer 0:\n",
      "[[268.]\n",
      " [286.]\n",
      " [338.]\n",
      " [202.]\n",
      " [196.]]\n",
      "\n",
      "\n",
      "Activation Gradient Layer 0:\n",
      "[[30624.]\n",
      " [12978.]\n",
      " [33470.]]\n",
      "\n",
      "\n",
      "Activation Gradient Layer 1:\n",
      "[[268.]\n",
      " [286.]\n",
      " [338.]\n",
      " [202.]\n",
      " [196.]]\n",
      "\n",
      "\n"
     ]
    }
   ],
   "source": [
    "gold.infer(x_in)\n",
    "\n",
    "gold.grad(y_truth)\n",
    "\n",
    "gold.print_grad()"
   ]
  }
 ],
 "metadata": {
  "kernelspec": {
   "display_name": "Python 3 (ipykernel)",
   "language": "python",
   "name": "python3"
  },
  "language_info": {
   "codemirror_mode": {
    "name": "ipython",
    "version": 3
   },
   "file_extension": ".py",
   "mimetype": "text/x-python",
   "name": "python",
   "nbconvert_exporter": "python",
   "pygments_lexer": "ipython3",
   "version": "3.8.8"
  }
 },
 "nbformat": 4,
 "nbformat_minor": 2
}
