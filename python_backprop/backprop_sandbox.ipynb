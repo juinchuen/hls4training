{
 "cells": [
  {
   "cell_type": "markdown",
   "metadata": {},
   "source": [
    "### Introduction\n",
    "In this notebook we will test out our custom quantized backprop code, and benchmark it against autograd, which is an automatic differentiation Python library."
   ]
  },
  {
   "cell_type": "code",
   "execution_count": 3,
   "metadata": {},
   "outputs": [],
   "source": [
    "import autograd.numpy as np\n",
    "\n",
    "from autograd import grad\n",
    "\n",
    "from mlp4autograd import mlp4autograd\n"
   ]
  },
  {
   "cell_type": "code",
   "execution_count": 4,
   "metadata": {},
   "outputs": [],
   "source": [
    "def error(params):\n",
    "    # inference error wrapper that we will use with autograd\n",
    "\n",
    "    ref.infer(x_in, params)\n",
    "\n",
    "    return ref.error(y_truth)\n",
    "\n",
    "def ref_v_autograd_error(ref_grad, autograd_grad):\n",
    "    # calculates mean percentage error of two calculated gradients, usually custom Python vs autograd\n",
    "\n",
    "    ref_grad_w = ref_grad[0]\n",
    "    ref_grad_b = ref_grad[1]\n",
    "\n",
    "    autograd_grad_w = autograd_grad[0]\n",
    "    autograd_grad_b = autograd_grad[1]\n",
    "\n",
    "    N = len(ref_grad_w)\n",
    "\n",
    "    delta_w = []\n",
    "    delta_b = []\n",
    "\n",
    "    for i in range(N):\n",
    "\n",
    "        delta_w.append(np.average(np.absolute(np.divide(ref_grad_w[i] - autograd_grad_w[i], autograd_grad_w[i]))))\n",
    "\n",
    "        delta_b.append(np.average(np.absolute(np.divide(ref_grad_b[i] - autograd_grad_b[i], autograd_grad_b[i]))))\n",
    "\n",
    "    return (np.average(delta_w) + np.average(delta_b))/2"
   ]
  },
  {
   "cell_type": "markdown",
   "metadata": {},
   "source": [
    "First we create an instant of our custom backprop module with floating point precision. We can use this to verify our implementation of the backprop algorithm."
   ]
  },
  {
   "cell_type": "code",
   "execution_count": 5,
   "metadata": {},
   "outputs": [],
   "source": [
    "ref = mlp4autograd()\n",
    "\n",
    "# no quantization, [3,7,7,5] architecture\n",
    "# initialize weights uniformly in [0,1]\n",
    "ref.set_quant(quant = False)\n",
    "ref.net_shape([3,7,7,5])\n",
    "ref.init_params(mode=\"uniform\")\n",
    "params = [ref._weight, ref._bias]\n",
    "\n",
    "# generate some random input\n",
    "x_in = np.random.random((3,1))\n",
    "ref.infer(x_in, params)\n",
    "\n",
    "# let the truth be x_in with some small perturbation\n",
    "# we want some small difference so gradient is nonzero but not too large\n",
    "y_truth = ref._activation[-1] + np.random.random((5,1))\n",
    "\n",
    "# calculate gradient according to truth\n",
    "ref.grad(y_truth, False)"
   ]
  },
  {
   "cell_type": "markdown",
   "metadata": {},
   "source": [
    "Next we calculate the gradient using the autograd library"
   ]
  },
  {
   "cell_type": "code",
   "execution_count": 6,
   "metadata": {},
   "outputs": [],
   "source": [
    "# create the gradient function\n",
    "gradient = grad(error)\n",
    "\n",
    "# evaluate the gradient function using the same set of parameters\n",
    "grad_eval = gradient(params)"
   ]
  },
  {
   "cell_type": "markdown",
   "metadata": {},
   "source": [
    "Finally, we can compare our own gradient calculations with floating point precision against autograd's gradient. We expect exactly 0% error, because the calculations we use are exactly the same as autograd."
   ]
  },
  {
   "cell_type": "code",
   "execution_count": 7,
   "metadata": {},
   "outputs": [
    {
     "name": "stdout",
     "output_type": "stream",
     "text": [
      "Percentage difference: 0.00%\n"
     ]
    }
   ],
   "source": [
    "print(\"Percentage difference: \" + \"{:2.2%}\".format(ref_v_autograd_error(ref.params_grad, grad_eval)))"
   ]
  },
  {
   "cell_type": "markdown",
   "metadata": {},
   "source": [
    "Next, we create a instance of the backprop module with (24,12) quantization. We will need to quantize the parameters, inputs, and outputs. Then we will evaluate the gradient with fixed point arithmetic."
   ]
  },
  {
   "cell_type": "code",
   "execution_count": 8,
   "metadata": {},
   "outputs": [],
   "source": [
    "D_BITS = 24\n",
    "Q_BITS = 12\n",
    "\n",
    "# (24,12) quantization, [3,7,7,5] architecture\n",
    "ref_q = mlp4autograd()\n",
    "ref_q.set_quant(D_BITS, Q_BITS, True)\n",
    "ref_q.net_shape([3,7,7,5])\n",
    "\n",
    "# quantize weights and biases\n",
    "weight_q = []\n",
    "bias_q = []\n",
    "\n",
    "for w in ref._weight:\n",
    "    weight_q.append(np.round(w * (2 ** Q_BITS)))\n",
    "\n",
    "for b in ref._bias:\n",
    "    bias_q.append(np.round(b * (2 ** Q_BITS)))\n",
    "\n",
    "ref_q._weight = weight_q\n",
    "ref_q._bias = bias_q\n",
    "\n",
    "# quantize inputs and outputs\n",
    "x_in_q = np.round(x_in * (2 ** Q_BITS))\n",
    "y_truth_q = np.round(y_truth * (2 ** Q_BITS))\n",
    "\n",
    "# perform inference and backprop\n",
    "ref_q.infer(x_in_q, [weight_q, bias_q])\n",
    "ref_q.grad(y_truth_q)\n",
    "\n",
    "# de-quantize (fixed point back to floating point)\n",
    "weight_grad_q = []\n",
    "bias_grad_q = []\n",
    "\n",
    "for wg in ref_q._weight_dif:\n",
    "    weight_grad_q.append(np.divide(wg, (2 ** Q_BITS)))\n",
    "\n",
    "for bg in ref_q._bias_dif:\n",
    "    bias_grad_q.append(np.divide(bg, (2 ** Q_BITS)))\n",
    "\n",
    "param_grad_q = [weight_grad_q, bias_grad_q]"
   ]
  },
  {
   "cell_type": "markdown",
   "metadata": {},
   "source": [
    "Finally, we can calculate the mean percent error between fixed point gradient and autograd gradient. We should see mean percent errors less than 1 %."
   ]
  },
  {
   "cell_type": "code",
   "execution_count": 9,
   "metadata": {},
   "outputs": [
    {
     "name": "stdout",
     "output_type": "stream",
     "text": [
      "Percentage difference: 0.52%\n"
     ]
    }
   ],
   "source": [
    "print(\"Percentage difference: \" + \"{:2.2%}\".format(ref_v_autograd_error(param_grad_q, grad_eval)))"
   ]
  },
  {
   "cell_type": "code",
   "execution_count": 12,
   "metadata": {},
   "outputs": [
    {
     "data": {
      "text/plain": [
       "array([[0.75619983, 0.40104644, 0.60145777],\n",
       "       [0.53197353, 0.06374854, 0.018671  ],\n",
       "       [0.40614024, 0.49858538, 0.94812328],\n",
       "       [0.13445347, 0.60993221, 0.61763712],\n",
       "       [0.77910687, 0.24742395, 0.14752764],\n",
       "       [0.23340611, 0.3955668 , 0.94701494],\n",
       "       [0.42314411, 0.35262293, 0.508145  ]])"
      ]
     },
     "execution_count": 12,
     "metadata": {},
     "output_type": "execute_result"
    }
   ],
   "source": [
    "ref._weight[0]"
   ]
  },
  {
   "cell_type": "code",
   "execution_count": 24,
   "metadata": {},
   "outputs": [
    {
     "name": "stdout",
     "output_type": "stream",
     "text": [
      "[[0.7561998343493976, 0.4010464419530745, 0.6014577714595644], [0.5319735287264586, 0.06374854004239738, 0.01867100036760616], [0.40614024329483356, 0.49858537934207514, 0.948123280108787], [0.13445346874151376, 0.6099322058160056, 0.6176371212367342], [0.7791068747014938, 0.24742395085913382, 0.1475276361049399], [0.23340611402675526, 0.39556679662526995, 0.9470149415453747], [0.42314411103616956, 0.3526229322762674, 0.5081449987359857]]\n"
     ]
    }
   ],
   "source": [
    "\n",
    "# importing the csv module\n",
    "import csv\n",
    "# field names\n",
    "fields = ['Name', 'Branch', 'Year', 'CGPA']\n",
    "# data rows of csv file\n",
    "rows = [['Nikhil', 'COE', '2', '9.0'],\n",
    "        ['Sanchit', 'COE', '2', '9.1'],\n",
    "        ['Aditya', 'IT', '2', '9.3'],\n",
    "        ['Sagar', 'SE', '1', '9.5'],\n",
    "        ['Prateek', 'MCE', '3', '7.8'],\n",
    "        ['Sahil', 'EP', '2', '9.1']]\n",
    "# name of csv file\n",
    "filename = \"university_records.csv\"\n",
    "# writing to csv file\n",
    "with open(filename, 'w', newline = '') as csvfile:\n",
    "    # creating a csv writer object\n",
    "    csvwriter = csv.writer(csvfile)\n",
    "    # writing the fields\n",
    "    csvwriter.writerow(fields,)\n",
    "    # writing the data rows\n",
    "    csvwriter.writerows(ref._weight[0])\n",
    "\n",
    "    csv_reader = csv.reader(csvfile)\n",
    "\n",
    "    csvreader = csv.reader(csvfile)\n",
    " \n",
    "    csvfile.close()\n",
    "\n",
    "with open(filename, 'r') as csvfile:\n",
    "\n",
    "    csvreader = csv.reader(csvfile)\n",
    "\n",
    "    rows = []\n",
    "\n",
    "    # extracting field names through first row\n",
    "    fields = next(csvreader)\n",
    " \n",
    "    # extracting each data row one by one\n",
    "    for row in csvreader:\n",
    "\n",
    "        conv = []\n",
    "\n",
    "        for f in row:\n",
    "            conv.append(float(f))\n",
    "\n",
    "        rows.append(conv)\n",
    "\n",
    "    np.array(rows)\n",
    "\n",
    "print(rows)\n",
    "\n"
   ]
  }
 ],
 "metadata": {
  "kernelspec": {
   "display_name": "Python 3 (ipykernel)",
   "language": "python",
   "name": "python3"
  },
  "language_info": {
   "codemirror_mode": {
    "name": "ipython",
    "version": 3
   },
   "file_extension": ".py",
   "mimetype": "text/x-python",
   "name": "python",
   "nbconvert_exporter": "python",
   "pygments_lexer": "ipython3",
   "version": "3.8.8"
  }
 },
 "nbformat": 4,
 "nbformat_minor": 2
}
