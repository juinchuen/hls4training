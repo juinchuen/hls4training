{
 "cells": [
  {
   "cell_type": "code",
   "execution_count": 1,
   "metadata": {},
   "outputs": [
    {
     "ename": "ModuleNotFoundError",
     "evalue": "No module named 'mlp'",
     "output_type": "error",
     "traceback": [
      "\u001b[1;31m---------------------------------------------------------------------------\u001b[0m",
      "\u001b[1;31mModuleNotFoundError\u001b[0m                       Traceback (most recent call last)",
      "Cell \u001b[1;32mIn[1], line 1\u001b[0m\n\u001b[1;32m----> 1\u001b[0m \u001b[38;5;28;01mfrom\u001b[39;00m \u001b[38;5;21;01mmlp\u001b[39;00m \u001b[38;5;28;01mimport\u001b[39;00m mlp\n\u001b[0;32m      3\u001b[0m \u001b[38;5;28;01mimport\u001b[39;00m \u001b[38;5;21;01mnumpy\u001b[39;00m \u001b[38;5;28;01mas\u001b[39;00m \u001b[38;5;21;01mnp\u001b[39;00m\n\u001b[0;32m      5\u001b[0m \u001b[38;5;28;01mimport\u001b[39;00m \u001b[38;5;21;01mmatplotlib\u001b[39;00m\u001b[38;5;21;01m.\u001b[39;00m\u001b[38;5;21;01mpyplot\u001b[39;00m \u001b[38;5;28;01mas\u001b[39;00m \u001b[38;5;21;01mplt\u001b[39;00m\n",
      "\u001b[1;31mModuleNotFoundError\u001b[0m: No module named 'mlp'"
     ]
    }
   ],
   "source": [
    "from mlp import mlp\n",
    "\n",
    "import numpy as np\n",
    "\n",
    "import matplotlib.pyplot as plt"
   ]
  },
  {
   "cell_type": "code",
   "execution_count": 2,
   "metadata": {},
   "outputs": [
    {
     "name": "stdout",
     "output_type": "stream",
     "text": [
      "(1, 500)\n"
     ]
    }
   ],
   "source": [
    "t = np.linspace(0,1,500)\n",
    "\n",
    "x0 = np.sin(2 * 3.1415 * t) + 1\n",
    "x1 = np.sin(4 * 3.1415 * t) + 1\n",
    "x2 = np.sin(8 * 3.1415 * t) + 1\n",
    "\n",
    "x = np.array([x0, x1, x2])\n",
    "\n",
    "y = np.minimum(0.4 * np.absolute(np.tan(4 * 3.1415 * t)), 2)\n",
    "\n",
    "y = np.reshape(y, (1,500))\n",
    "\n",
    "print(y.shape)\n",
    "\n",
    "# plt.plot(t, x0, t, x1, t, x2, t, y)\n",
    "\n",
    "\n"
   ]
  },
  {
   "cell_type": "code",
   "execution_count": 3,
   "metadata": {},
   "outputs": [
    {
     "name": "stdout",
     "output_type": "stream",
     "text": [
      "Weight Layer 0:\n",
      "[[0.44588186 0.40050441 0.62331299]\n",
      " [0.74430366 0.77524188 0.32077232]\n",
      " [0.03319609 0.76463517 0.31700091]\n",
      " [0.73553815 0.54629833 0.87413132]\n",
      " [0.7141009  0.50868857 0.61998987]]\n",
      "\n",
      "\n",
      "Weight Layer 1:\n",
      "[[0.9391685  0.841841   0.09896526 0.90572687 0.28553668]\n",
      " [0.68049516 0.57311994 0.91763805 0.44760003 0.66348069]\n",
      " [0.69337197 0.03579976 0.76537182 0.20432579 0.09956636]\n",
      " [0.31108479 0.28240997 0.04526448 0.45557308 0.31943499]\n",
      " [0.38259688 0.32275463 0.25455956 0.25217309 0.67277988]]\n",
      "\n",
      "\n",
      "Weight Layer 2:\n",
      "[[0.7841057  0.93791255 0.08705157 0.04953787 0.69399466]]\n",
      "\n",
      "\n",
      "Bias Layer 0:\n",
      "[[0.09567589]\n",
      " [0.22258382]\n",
      " [0.31549462]\n",
      " [0.09031506]\n",
      " [0.7998016 ]]\n",
      "\n",
      "\n",
      "Bias Layer 1:\n",
      "[[0.08294374]\n",
      " [0.84385367]\n",
      " [0.90962805]\n",
      " [0.50139518]\n",
      " [0.24557839]]\n",
      "\n",
      "\n",
      "Bias Layer 2:\n",
      "[[0.18016573]]\n",
      "\n",
      "\n",
      "Weight Layer 0:\n",
      "[[467541. 419959. 653591.]\n",
      " [780459. 812900. 336354.]\n",
      " [ 34809. 801778. 332400.]\n",
      " [771268. 572835. 916593.]\n",
      " [748789. 533399. 650107.]]\n",
      "\n",
      "\n",
      "Weight Layer 1:\n",
      "[[984790. 882734. 103773. 949723. 299407.]\n",
      " [713551. 600960. 962213. 469343. 695710.]\n",
      " [727053.  37539. 802551. 214251. 104403.]\n",
      " [326196. 296128.  47463. 477703. 334952.]\n",
      " [401182. 338433. 266925. 264423. 705461.]]\n",
      "\n",
      "\n",
      "Weight Layer 2:\n",
      "[[822194. 983473.  91280.  51944. 727706.]]\n",
      "\n",
      "\n",
      "Bias Layer 0:\n",
      "[[100323.]\n",
      " [233396.]\n",
      " [330820.]\n",
      " [ 94702.]\n",
      " [838653.]]\n",
      "\n",
      "\n",
      "Bias Layer 1:\n",
      "[[ 86973.]\n",
      " [884845.]\n",
      " [953814.]\n",
      " [525751.]\n",
      " [257508.]]\n",
      "\n",
      "\n",
      "Bias Layer 2:\n",
      "[[188917.]]\n",
      "\n",
      "\n"
     ]
    },
    {
     "ename": "",
     "evalue": "",
     "output_type": "error",
     "traceback": [
      "\u001b[1;31mThe Kernel crashed while executing code in the current cell or a previous cell. \n",
      "\u001b[1;31mPlease review the code in the cell(s) to identify a possible cause of the failure. \n",
      "\u001b[1;31mClick <a href='https://aka.ms/vscodeJupyterKernelCrash'>here</a> for more info. \n",
      "\u001b[1;31mView Jupyter <a href='command:jupyter.viewOutput'>log</a> for further details."
     ]
    }
   ],
   "source": [
    "# create two mlp objects\n",
    "# one floating point, one quantized\n",
    "\n",
    "mlp_qt = mlp()\n",
    "mlp_fp = mlp()\n",
    "\n",
    "d_bits = 32\n",
    "q_bits = 20\n",
    "\n",
    "mlp_qt.set_quant(d_bits=d_bits, q_bits=q_bits, quant = True)\n",
    "\n",
    "mlp_fp.net_shape([3,5,5,1])\n",
    "mlp_qt.net_shape([3,5,5,1])\n",
    "\n",
    "mlp_fp.init_params(mode=\"uniform\")\n",
    "\n",
    "mlp_fp.print_params()\n",
    "\n",
    "mlp_qt._weight = []\n",
    "mlp_qt._bias = []\n",
    "\n",
    "for w in mlp_fp._weight:\n",
    "    mlp_qt._weight.append(np.minimum(np.round(np.multiply(w, 2**q_bits)), (2**d_bits)-1))\n",
    "\n",
    "for b in mlp_fp._bias:\n",
    "    mlp_qt._bias.append(np.minimum(np.round(np.multiply(b, 2**q_bits)), (2**d_bits)-1))\n",
    "\n",
    "mlp_qt.print_params()"
   ]
  },
  {
   "cell_type": "code",
   "execution_count": 3,
   "metadata": {},
   "outputs": [
    {
     "name": "stdout",
     "output_type": "stream",
     "text": [
      "Weight Gradient Layer 0:\n",
      "[[ 58.0656799   87.09851985 116.1313598 ]\n",
      " [108.73027179 163.09540768 217.46054357]\n",
      " [ 68.5091328  102.7636992  137.0182656 ]\n",
      " [ 22.93703494  34.40555241  45.87406988]\n",
      " [ 73.85861439 110.78792159 147.71722878]]\n",
      "\n",
      "\n",
      "Weight Gradient Layer 1:\n",
      "[[244.60364454 148.46782038 143.04691064 230.22178192 175.27784987]\n",
      " [ 18.39429072  11.16483876  10.7571842   17.31276897  13.18096357]\n",
      " [ 14.82691552   8.99953815   8.67094382  13.9551433   10.6246572 ]\n",
      " [149.31098023  90.6277412   87.31870896 140.53200227 106.99312198]\n",
      " [ 73.87610324  44.84080377  43.20356044  69.53243956  52.93806868]]\n",
      "\n",
      "\n",
      "Weight Gradient Layer 2:\n",
      "[[613.96085418 368.39460751 230.32036046 757.34914436 303.95097502]]\n",
      "\n",
      "\n",
      "Bias Gradient Layer 0:\n",
      "[[29.03283995]\n",
      " [54.36513589]\n",
      " [34.2545664 ]\n",
      " [11.46851747]\n",
      " [36.9293072 ]]\n",
      "\n",
      "\n",
      "Bias Gradient Layer 1:\n",
      "[[31.72641296]\n",
      " [ 2.38583879]\n",
      " [ 1.92313097]\n",
      " [19.36644005]\n",
      " [ 9.58212934]]\n",
      "\n",
      "\n",
      "Bias Gradient Layer 2:\n",
      "[[39.94399999]]\n",
      "\n",
      "\n",
      "Activation Gradient Layer 0:\n",
      "[[100.49052954]\n",
      " [ 79.98079233]\n",
      " [ 99.37771873]]\n",
      "\n",
      "\n",
      "Activation Gradient Layer 1:\n",
      "[[29.03283995]\n",
      " [54.36513589]\n",
      " [34.2545664 ]\n",
      " [11.46851747]\n",
      " [36.9293072 ]]\n",
      "\n",
      "\n",
      "Activation Gradient Layer 2:\n",
      "[[31.72641296]\n",
      " [ 2.38583879]\n",
      " [ 1.92313097]\n",
      " [19.36644005]\n",
      " [ 9.58212934]]\n",
      "\n",
      "\n",
      "Activation Gradient Layer 3:\n",
      "[[39.94399999]]\n",
      "\n",
      "\n",
      "Weight Gradient Layer 0:\n",
      "[[6.08862740e+07 9.13294110e+07 1.21772548e+08]\n",
      " [1.14011958e+08 1.71017937e+08 2.28023916e+08]\n",
      " [7.18370140e+07 1.07755521e+08 1.43674028e+08]\n",
      " [2.40512520e+07 3.60768780e+07 4.81025040e+07]\n",
      " [7.74463460e+07 1.16169519e+08 1.54892692e+08]]\n",
      "\n",
      "\n",
      "Weight Gradient Layer 1:\n",
      "[[2.56485607e+08 1.55679827e+08 1.49995563e+08 2.41405025e+08\n",
      "  1.83792258e+08]\n",
      " [1.92878130e+07 1.17071810e+07 1.12797220e+07 1.81537470e+07\n",
      "  1.38212460e+07]\n",
      " [1.55470270e+07 9.43662500e+06 9.09207000e+06 1.46329090e+07\n",
      "  1.11406770e+07]\n",
      " [1.56563835e+08 9.50300140e+07 9.15602280e+07 1.47358352e+08\n",
      "  1.12190392e+08]\n",
      " [7.74647460e+07 4.70190060e+07 4.53022230e+07 7.29100520e+07\n",
      "  5.55096280e+07]]\n",
      "\n",
      "\n",
      "Weight Gradient Layer 2:\n",
      "[[6.43785072e+08 3.86289697e+08 2.41508387e+08 7.94138091e+08\n",
      "  3.18715710e+08]]\n",
      "\n",
      "\n",
      "Bias Gradient Layer 0:\n",
      "[[30443137.]\n",
      " [57005979.]\n",
      " [35918507.]\n",
      " [12025626.]\n",
      " [38723173.]]\n",
      "\n",
      "\n",
      "Bias Gradient Layer 1:\n",
      "[[33267562.]\n",
      " [ 2501733.]\n",
      " [ 2016533.]\n",
      " [20307171.]\n",
      " [10047594.]]\n",
      "\n",
      "\n",
      "Bias Gradient Layer 2:\n",
      "[[41884322.]]\n",
      "\n",
      "\n",
      "Activation Gradient Layer 0:\n",
      "[[1.05372001e+08]\n",
      " [8.38659480e+07]\n",
      " [1.04205082e+08]]\n",
      "\n",
      "\n",
      "Activation Gradient Layer 1:\n",
      "[[30443137.]\n",
      " [57005979.]\n",
      " [35918507.]\n",
      " [12025626.]\n",
      " [38723173.]]\n",
      "\n",
      "\n",
      "Activation Gradient Layer 2:\n",
      "[[33267562.]\n",
      " [ 2501733.]\n",
      " [ 2016533.]\n",
      " [20307171.]\n",
      " [10047594.]]\n",
      "\n",
      "\n",
      "Activation Gradient Layer 3:\n",
      "[[41884322.]]\n",
      "\n",
      "\n"
     ]
    }
   ],
   "source": [
    "x = np.array([[2],[3],[4]])\n",
    "\n",
    "x_q = np.minimum(np.round(np.multiply(x, 2**q_bits)), (2**d_bits)-1)\n",
    "\n",
    "y = np.array([[5]])\n",
    "y_q = y * 2**q_bits\n",
    "\n",
    "mlp_fp.infer(x)\n",
    "mlp_qt.infer(x_q)\n",
    "\n",
    "# mlp_fp.print_params()\n",
    "# mlp_qt.print_params()\n",
    "\n",
    "# mlp_fp.print_act()\n",
    "# mlp_qt.print_act()\n",
    "\n",
    "mlp_fp.grad(y)\n",
    "mlp_qt.grad(y_q)\n",
    "\n",
    "mlp_fp.print_grad()\n",
    "mlp_qt.print_grad()\n",
    "\n",
    "# mlp_fp.grad(y,debug=True)\n",
    "# mlp_fp.print_grad()"
   ]
  },
  {
   "cell_type": "code",
   "execution_count": 4,
   "metadata": {},
   "outputs": [
    {
     "name": "stdout",
     "output_type": "stream",
     "text": [
      "[[ 4.16448384e-06  6.24672576e-06  8.32896768e-06]\n",
      " [-4.32212587e-06 -6.48318883e-06 -8.64425175e-06]\n",
      " [ 1.75827009e-05  2.63740514e-05  3.51654018e-05]\n",
      " [-2.63685729e-05 -3.95528593e-05 -5.27371458e-05]\n",
      " [ 2.33123735e-05  3.49685603e-05  4.66247471e-05]]\n",
      "[[-9.13810767e-05 -3.22145460e-05 -5.36306345e-06  9.72730564e-06\n",
      "  -1.06138925e-04]\n",
      " [-1.16013084e-06  9.17935234e-07  3.03371649e-06  6.70546963e-06\n",
      "  -3.76477272e-06]\n",
      " [ 1.15176715e-04  7.12537375e-05  7.01779280e-05  1.13815765e-04\n",
      "   7.96775357e-05]\n",
      " [ 7.19132938e-05  5.75571011e-05  7.11080627e-05  1.26655675e-04\n",
      "   2.65801556e-05]\n",
      " [-3.54422249e-05 -1.46334328e-05 -6.11600866e-06 -4.43976099e-06\n",
      "  -3.78594757e-05]]\n",
      "[[-4.34277006e-04  4.47918325e-05  1.45811686e-05  4.32911628e-05\n",
      "  -1.18382154e-05]]\n"
     ]
    }
   ],
   "source": [
    "err = 0\n",
    "sum = 0\n",
    "\n",
    "for i in range(len(mlp_fp._weight_dif)):\n",
    "\n",
    "    mat = mlp_fp._weight_dif[i] - np.divide(mlp_qt._weight_dif[i], 2**mlp_qt._q_bits)\n",
    "\n",
    "    print(mat)\n",
    "\n",
    "    err += np.sum(np.absolute(mat))\n",
    "\n",
    "    sum += np.sum(mlp_fp._weight_dif[i])\n"
   ]
  },
  {
   "cell_type": "code",
   "execution_count": 10,
   "metadata": {},
   "outputs": [
    {
     "name": "stdout",
     "output_type": "stream",
     "text": [
      "[20.6663914 20.6663914 20.6663914]\n",
      "[13.23098463 13.23098463 13.23098463]\n",
      "[9.6123987 9.6123987 9.6123987]\n",
      "[19.22843882 19.22843882 19.22843882]\n",
      "[3.94648597 3.94648597 3.94648597]\n"
     ]
    },
    {
     "data": {
      "image/png": "[encoded data removed]",
      "text/plain": [
       "<Figure size 640x480 with 1 Axes>"
      ]
     },
     "metadata": {},
     "output_type": "display_data"
    },
    {
     "data": {
      "image/png": "[encoded data removed]",
      "text/plain": [
       "<Figure size 640x480 with 1 Axes>"
      ]
     },
     "metadata": {},
     "output_type": "display_data"
    }
   ],
   "source": [
    "plt.plot(mlp_fp._weight_dif[1].flatten())\n",
    "\n",
    "plt.plot(np.divide(mlp_qt._weight_dif[i], 2**mlp_qt._q_bits).flatten())\n",
    "\n",
    "plt.figure()\n",
    "\n",
    "for l in mlp_fp._weight_dif[0]:\n",
    "    print(l)\n",
    "    plt.plot(l)"
   ]
  },
  {
   "cell_type": "code",
   "execution_count": 2,
   "metadata": {},
   "outputs": [
    {
     "name": "stdout",
     "output_type": "stream",
     "text": [
      "Weight Layer 0:\n",
      "[[ 996.  468.  862.]\n",
      " [ 491.  759. 1008.]\n",
      " [ 887.  466.    3.]\n",
      " [ 720.  962.  493.]\n",
      " [ 726.  148.  769.]\n",
      " [ 690.  604.  775.]\n",
      " [ 278.  693.  988.]\n",
      " [ 759.  952. 1017.]\n",
      " [ 823.  621.   82.]\n",
      " [ 698. 1016. 1016.]\n",
      " [ 558.  545.  253.]\n",
      " [ 296.  973.  725.]\n",
      " [ 214.  710.  554.]\n",
      " [  86.  948.   94.]\n",
      " [ 451.  352.  431.]\n",
      " [ 518.  756.   99.]]\n",
      "\n",
      "\n",
      "Weight Layer 1:\n",
      "[[295. 761. 659. 661.  65. 270. 573. 327. 848. 112. 976. 585. 434. 416.\n",
      "  874. 361.]]\n",
      "\n",
      "\n",
      "Bias Layer 0:\n",
      "[[ 821.]\n",
      " [ 834.]\n",
      " [ 403.]\n",
      " [ 988.]\n",
      " [ 587.]\n",
      " [ 819.]\n",
      " [ 979.]\n",
      " [ 979.]\n",
      " [ 540.]\n",
      " [ 283.]\n",
      " [ 410.]\n",
      " [1008.]\n",
      " [ 179.]\n",
      " [ 997.]\n",
      " [ 984.]\n",
      " [ 680.]]\n",
      "\n",
      "\n",
      "Bias Layer 1:\n",
      "[[575.]]\n",
      "\n",
      "\n"
     ]
    }
   ],
   "source": [
    "mlp.set_quant(d_bits=16, q_bits=10)\n",
    "\n",
    "mlp.net_shape([3,16,1])\n",
    "\n",
    "mlp.init(mode=\"uniform\")\n",
    "\n",
    "mlp.print_params()\n",
    "\n",
    "# mlp.train(x, y, 2000, alpha = 0.00001, init_mode=\"uniform\", resume=False, momentum=False, beta=0.2, batch_size=200, min_max=True)"
   ]
  },
  {
   "cell_type": "code",
   "execution_count": 3,
   "metadata": {},
   "outputs": [
    {
     "name": "stdout",
     "output_type": "stream",
     "text": [
      "Activation of layer 0:\n",
      "[[50]\n",
      " [50]\n",
      " [50]]\n",
      "\n",
      "\n",
      "Activation of layer 1:\n",
      "[[ 934.57421875]\n",
      " [ 944.25390625]\n",
      " [ 469.2109375 ]\n",
      " [1094.20117188]\n",
      " [ 667.22460938]\n",
      " [ 920.02539062]\n",
      " [1074.65429688]\n",
      " [1112.203125  ]\n",
      " [ 614.51171875]\n",
      " [ 416.30078125]\n",
      " [ 476.2109375 ]\n",
      " [1105.36328125]\n",
      " [ 251.16796875]\n",
      " [1052.078125  ]\n",
      " [1044.25390625]\n",
      " [ 747.04101562]]\n",
      "\n",
      "\n",
      "Activation of layer 2:\n",
      "[[7124.00344467]]\n",
      "\n",
      "\n"
     ]
    }
   ],
   "source": [
    "x = np.array([[50],[50],[50]])\n",
    "\n",
    "mlp.infer(x)\n",
    "\n",
    "mlp.print_act()"
   ]
  },
  {
   "cell_type": "code",
   "execution_count": 4,
   "metadata": {},
   "outputs": [
    {
     "data": {
      "image/png": "[encoded data removed]",
      "text/plain": [
       "<Figure size 640x480 with 1 Axes>"
      ]
     },
     "metadata": {},
     "output_type": "display_data"
    }
   ],
   "source": [
    "buffer = []\n",
    "\n",
    "for i in range(500):\n",
    "\n",
    "    mlp.infer(np.reshape(x[:,i], (3, 1)))\n",
    "\n",
    "    buffer.append(mlp._activation[-1][0])\n",
    "\n",
    "plt.plot(buffer)\n",
    "\n",
    "plt.plot(y.flatten())\n",
    "\n",
    "val = 0\n",
    "\n",
    "for t in (buffer - y):\n",
    "\n",
    "    val += (t[0] * t[0])"
   ]
  },
  {
   "cell_type": "code",
   "execution_count": 5,
   "metadata": {},
   "outputs": [
    {
     "data": {
      "text/plain": [
       "[<matplotlib.lines.Line2D at 0x1c2e88f9ea0>]"
      ]
     },
     "execution_count": 5,
     "metadata": {},
     "output_type": "execute_result"
    },
    {
     "data": {
      "image/png": "[encoded data removed]",
      "text/plain": [
       "<Figure size 640x480 with 1 Axes>"
      ]
     },
     "metadata": {},
     "output_type": "display_data"
    }
   ],
   "source": [
    "plt.plot(mlp._cost_history)"
   ]
  },
  {
   "cell_type": "code",
   "execution_count": 8,
   "metadata": {},
   "outputs": [
    {
     "name": "stdout",
     "output_type": "stream",
     "text": [
      "Layer 0\n",
      "Weight MIN: 0.0 MAX: 11.641241388164092\n",
      "Bias MIN: 0.0 MAX: 7.1987528784061645\n",
      "\n",
      "\n",
      "Layer 1\n",
      "Weight MIN: 0.0 MAX: 18.8334830277845\n",
      "Bias MIN: 0.0 MAX: 44.07385213917892\n",
      "\n",
      "\n"
     ]
    },
    {
     "data": {
      "image/png": "[encoded data removed]",
      "text/plain": [
       "<Figure size 640x480 with 1 Axes>"
      ]
     },
     "metadata": {},
     "output_type": "display_data"
    }
   ],
   "source": [
    "mlp.print_minmax(True)"
   ]
  },
  {
   "cell_type": "code",
   "execution_count": 12,
   "metadata": {},
   "outputs": [],
   "source": [
    "class ListNode(object):\n",
    "    def __init__(self, val=0, next=None):\n",
    "        self.val = val\n",
    "        self.next = next\n",
    "\n",
    "class Solution(object):\n",
    "\n",
    "    def __init__(self):\n",
    "        return None\n",
    "\n",
    "    def listtolinkedlist(self, data_in):\n",
    "\n",
    "        retval = ListNode(data_in[0])\n",
    "\n",
    "        curr = retval\n",
    "\n",
    "        for i in range (1, len(data_in)):\n",
    "\n",
    "            curr.next = ListNode(data_in[i])\n",
    "            curr = curr.next\n",
    "\n",
    "        return retval\n",
    "\n",
    "    def removeNthFromEnd(self, head, n):\n",
    "\n",
    "        nllist = []\n",
    "\n",
    "        curr = head\n",
    "\n",
    "        while curr != None:\n",
    "            nllist.append(curr)\n",
    "            curr = curr.next\n",
    "\n",
    "        if len(nllist) < n:\n",
    "            return head\n",
    "        elif len(nllist) == n:\n",
    "            return head.next\n",
    "        else:\n",
    "            nllist[-n-1].next = nllist[-n].next\n",
    "            return head\n",
    "\n",
    "s = Solution()\n",
    "\n",
    "linked_list = s.listtolinkedlist([1])\n",
    "\n",
    "result = s.removeNthFromEnd(linked_list, 1)\n",
    "\n",
    "        "
   ]
  }
 ],
 "metadata": {
  "kernelspec": {
   "display_name": "Python 3 (ipykernel)",
   "language": "python",
   "name": "python3"
  },
  "language_info": {
   "codemirror_mode": {
    "name": "ipython",
    "version": 3
   },
   "file_extension": ".py",
   "mimetype": "text/x-python",
   "name": "python",
   "nbconvert_exporter": "python",
   "pygments_lexer": "ipython3",
   "version": "3.8.8"
  }
 },
 "nbformat": 4,
 "nbformat_minor": 2
}
